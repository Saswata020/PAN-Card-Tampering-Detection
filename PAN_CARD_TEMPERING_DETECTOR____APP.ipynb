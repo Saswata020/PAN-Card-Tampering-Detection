{
  "nbformat": 4,
  "nbformat_minor": 0,
  "metadata": {
    "colab": {
      "provenance": [],
      "authorship_tag": "ABX9TyNNjUIuWehuQG9plJm1c86v",
      "include_colab_link": true
    },
    "kernelspec": {
      "name": "python3",
      "display_name": "Python 3"
    },
    "language_info": {
      "name": "python"
    }
  },
  "cells": [
    {
      "cell_type": "markdown",
      "metadata": {
        "id": "view-in-github",
        "colab_type": "text"
      },
      "source": [
        "<a href=\"https://colab.research.google.com/github/Saswata020/PAN-Card-Tampering-Detection/blob/main/PAN_CARD_TEMPERING_DETECTOR____APP.ipynb\" target=\"_parent\"><img src=\"https://colab.research.google.com/assets/colab-badge.svg\" alt=\"Open In Colab\"/></a>"
      ]
    },
    {
      "cell_type": "markdown",
      "source": [
        "## PAN Card Tampering Detection"
      ],
      "metadata": {
        "id": "PSBKg_sxEbBX"
      }
    },
    {
      "cell_type": "markdown",
      "source": [
        "#### The purpose of this project is to detect tampering of PAN card using computer vision. This project will help different organization in detecting whether the Id i.e. the PAN card provided to them by thier employees or customers or anyone is original or not."
      ],
      "metadata": {
        "id": "BzdbJCLSEdVw"
      }
    },
    {
      "cell_type": "code",
      "execution_count": 1,
      "metadata": {
        "id": "7gkYlOemBTlk"
      },
      "outputs": [],
      "source": [
        "# import the necessary packages\n",
        "from skimage.metrics import structural_similarity\n",
        "import imutils #grabbing the contor \n",
        "import cv2\n",
        "from PIL import Image #downloading and visualizing the image\n",
        "import requests"
      ]
    },
    {
      "cell_type": "code",
      "source": [],
      "metadata": {
        "id": "ZjHrfi90E4SA"
      },
      "execution_count": null,
      "outputs": []
    }
  ]
}